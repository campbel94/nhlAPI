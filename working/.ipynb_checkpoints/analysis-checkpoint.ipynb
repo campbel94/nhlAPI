{
 "cells": [
  {
   "cell_type": "code",
   "execution_count": 48,
   "id": "480f0489",
   "metadata": {},
   "outputs": [],
   "source": [
    "import pandas as pd\n",
    "import numpy as np\n",
    "import matplotlib.pyplot as plt\n",
    "import pylab\n",
    "\n",
    "import json\n",
    "import requests"
   ]
  },
  {
   "cell_type": "code",
   "execution_count": 2,
   "id": "233b646c",
   "metadata": {},
   "outputs": [
    {
     "data": {
      "text/html": [
       "<div>\n",
       "<style scoped>\n",
       "    .dataframe tbody tr th:only-of-type {\n",
       "        vertical-align: middle;\n",
       "    }\n",
       "\n",
       "    .dataframe tbody tr th {\n",
       "        vertical-align: top;\n",
       "    }\n",
       "\n",
       "    .dataframe thead th {\n",
       "        text-align: right;\n",
       "    }\n",
       "</style>\n",
       "<table border=\"1\" class=\"dataframe\">\n",
       "  <thead>\n",
       "    <tr style=\"text-align: right;\">\n",
       "      <th></th>\n",
       "      <th>player_ids</th>\n",
       "      <th>player_names</th>\n",
       "      <th>player_birthdays</th>\n",
       "      <th>player_birthcities</th>\n",
       "      <th>player_birthcountries</th>\n",
       "      <th>player_nationalities</th>\n",
       "      <th>player_heights</th>\n",
       "      <th>player_weights</th>\n",
       "      <th>player_handedness</th>\n",
       "      <th>player_positions</th>\n",
       "    </tr>\n",
       "  </thead>\n",
       "  <tbody>\n",
       "    <tr>\n",
       "      <th>0</th>\n",
       "      <td>8447348</td>\n",
       "      <td>Jack Laviolette</td>\n",
       "      <td>1879-07-27</td>\n",
       "      <td>Belleville</td>\n",
       "      <td>CAN</td>\n",
       "      <td>CAN</td>\n",
       "      <td>5' 11\"</td>\n",
       "      <td>170.0</td>\n",
       "      <td>R</td>\n",
       "      <td>Defenseman</td>\n",
       "    </tr>\n",
       "    <tr>\n",
       "      <th>1</th>\n",
       "      <td>8449231</td>\n",
       "      <td>Ken Thompson</td>\n",
       "      <td>1881-05-29</td>\n",
       "      <td>Oakengates</td>\n",
       "      <td>GBR</td>\n",
       "      <td>GBR</td>\n",
       "      <td>5' 10\"</td>\n",
       "      <td>160.0</td>\n",
       "      <td>L</td>\n",
       "      <td>Left Wing</td>\n",
       "    </tr>\n",
       "    <tr>\n",
       "      <th>2</th>\n",
       "      <td>8450014</td>\n",
       "      <td>Bert Lindsay</td>\n",
       "      <td>1881-07-23</td>\n",
       "      <td>Garafraxa County</td>\n",
       "      <td>CAN</td>\n",
       "      <td>CAN</td>\n",
       "      <td>5' 7\"</td>\n",
       "      <td>160.0</td>\n",
       "      <td>R</td>\n",
       "      <td>Goalie</td>\n",
       "    </tr>\n",
       "    <tr>\n",
       "      <th>3</th>\n",
       "      <td>8446669</td>\n",
       "      <td>Joe Hall</td>\n",
       "      <td>1882-05-03</td>\n",
       "      <td>Staffordshire</td>\n",
       "      <td>GBR</td>\n",
       "      <td>GBR</td>\n",
       "      <td>5' 10\"</td>\n",
       "      <td>175.0</td>\n",
       "      <td>R</td>\n",
       "      <td>Defenseman</td>\n",
       "    </tr>\n",
       "    <tr>\n",
       "      <th>4</th>\n",
       "      <td>8448154</td>\n",
       "      <td>Didier Pitre</td>\n",
       "      <td>1883-09-01</td>\n",
       "      <td>Valleyfield</td>\n",
       "      <td>CAN</td>\n",
       "      <td>CAN</td>\n",
       "      <td>5' 11\"</td>\n",
       "      <td>185.0</td>\n",
       "      <td>R</td>\n",
       "      <td>Right Wing</td>\n",
       "    </tr>\n",
       "  </tbody>\n",
       "</table>\n",
       "</div>"
      ],
      "text/plain": [
       "   player_ids     player_names player_birthdays player_birthcities  \\\n",
       "0     8447348  Jack Laviolette       1879-07-27         Belleville   \n",
       "1     8449231     Ken Thompson       1881-05-29         Oakengates   \n",
       "2     8450014     Bert Lindsay       1881-07-23   Garafraxa County   \n",
       "3     8446669         Joe Hall       1882-05-03      Staffordshire   \n",
       "4     8448154     Didier Pitre       1883-09-01        Valleyfield   \n",
       "\n",
       "  player_birthcountries player_nationalities player_heights  player_weights  \\\n",
       "0                   CAN                  CAN         5' 11\"           170.0   \n",
       "1                   GBR                  GBR         5' 10\"           160.0   \n",
       "2                   CAN                  CAN          5' 7\"           160.0   \n",
       "3                   GBR                  GBR         5' 10\"           175.0   \n",
       "4                   CAN                  CAN         5' 11\"           185.0   \n",
       "\n",
       "  player_handedness player_positions  \n",
       "0                 R       Defenseman  \n",
       "1                 L        Left Wing  \n",
       "2                 R           Goalie  \n",
       "3                 R       Defenseman  \n",
       "4                 R       Right Wing  "
      ]
     },
     "execution_count": 2,
     "metadata": {},
     "output_type": "execute_result"
    }
   ],
   "source": [
    "players_df = pd.read_csv('../data/players_df.csv')\n",
    "players_df.drop(columns='Unnamed: 0', inplace=True)\n",
    "players_df.head()"
   ]
  },
  {
   "cell_type": "code",
   "execution_count": 3,
   "id": "168a0158",
   "metadata": {},
   "outputs": [
    {
     "data": {
      "text/html": [
       "<div>\n",
       "<style scoped>\n",
       "    .dataframe tbody tr th:only-of-type {\n",
       "        vertical-align: middle;\n",
       "    }\n",
       "\n",
       "    .dataframe tbody tr th {\n",
       "        vertical-align: top;\n",
       "    }\n",
       "\n",
       "    .dataframe thead th {\n",
       "        text-align: right;\n",
       "    }\n",
       "</style>\n",
       "<table border=\"1\" class=\"dataframe\">\n",
       "  <thead>\n",
       "    <tr style=\"text-align: right;\">\n",
       "      <th></th>\n",
       "      <th>season</th>\n",
       "      <th>team_ids</th>\n",
       "      <th>team_names</th>\n",
       "      <th>player_ids</th>\n",
       "      <th>player_names</th>\n",
       "    </tr>\n",
       "  </thead>\n",
       "  <tbody>\n",
       "    <tr>\n",
       "      <th>0</th>\n",
       "      <td>1917-1918</td>\n",
       "      <td>36</td>\n",
       "      <td>Eagles</td>\n",
       "      <td>8445135</td>\n",
       "      <td>George Boucher</td>\n",
       "    </tr>\n",
       "    <tr>\n",
       "      <th>1</th>\n",
       "      <td>1917-1918</td>\n",
       "      <td>36</td>\n",
       "      <td>Eagles</td>\n",
       "      <td>8445191</td>\n",
       "      <td>Morley Bruce</td>\n",
       "    </tr>\n",
       "    <tr>\n",
       "      <th>2</th>\n",
       "      <td>1917-1918</td>\n",
       "      <td>36</td>\n",
       "      <td>Eagles</td>\n",
       "      <td>8445802</td>\n",
       "      <td>Rusty Crawford</td>\n",
       "    </tr>\n",
       "    <tr>\n",
       "      <th>3</th>\n",
       "      <td>1917-1918</td>\n",
       "      <td>36</td>\n",
       "      <td>Eagles</td>\n",
       "      <td>8445844</td>\n",
       "      <td>Jack Darragh</td>\n",
       "    </tr>\n",
       "    <tr>\n",
       "      <th>4</th>\n",
       "      <td>1917-1918</td>\n",
       "      <td>36</td>\n",
       "      <td>Eagles</td>\n",
       "      <td>8445874</td>\n",
       "      <td>Cy Denneny</td>\n",
       "    </tr>\n",
       "  </tbody>\n",
       "</table>\n",
       "</div>"
      ],
      "text/plain": [
       "      season  team_ids team_names  player_ids    player_names\n",
       "0  1917-1918        36     Eagles     8445135  George Boucher\n",
       "1  1917-1918        36     Eagles     8445191    Morley Bruce\n",
       "2  1917-1918        36     Eagles     8445802  Rusty Crawford\n",
       "3  1917-1918        36     Eagles     8445844    Jack Darragh\n",
       "4  1917-1918        36     Eagles     8445874      Cy Denneny"
      ]
     },
     "execution_count": 3,
     "metadata": {},
     "output_type": "execute_result"
    }
   ],
   "source": [
    "rosters_df = pd.read_csv('../data/rosters_df.csv')\n",
    "rosters_df.drop(columns='Unnamed: 0', inplace=True)\n",
    "rosters_df.head()"
   ]
  },
  {
   "cell_type": "code",
   "execution_count": 4,
   "id": "e48a2bcd",
   "metadata": {},
   "outputs": [],
   "source": [
    "rosters_df['player_birthdays'] = [players_df[players_df['player_ids'] == i]['player_birthdays'].values[0] for i in rosters_df['player_ids']]\n",
    "rosters_df['player_birthcities'] = [players_df[players_df['player_ids'] == i]['player_birthcities'].values[0] for i in rosters_df['player_ids']]\n",
    "rosters_df['player_birthcountries'] = [players_df[players_df['player_ids'] == i]['player_birthcountries'].values[0] for i in rosters_df['player_ids']]\n",
    "rosters_df['player_nationalities'] = [players_df[players_df['player_ids'] == i]['player_nationalities'].values[0] for i in rosters_df['player_ids']]\n",
    "rosters_df['player_heights'] = [players_df[players_df['player_ids'] == i]['player_heights'].values[0] for i in rosters_df['player_ids']]\n",
    "rosters_df['player_weights'] = [players_df[players_df['player_ids'] == i]['player_weights'].values[0] for i in rosters_df['player_ids']]\n",
    "rosters_df['player_handedness'] = [players_df[players_df['player_ids'] == i]['player_handedness'].values[0] for i in rosters_df['player_ids']]"
   ]
  },
  {
   "cell_type": "code",
   "execution_count": 5,
   "id": "909df356",
   "metadata": {},
   "outputs": [
    {
     "data": {
      "text/html": [
       "<div>\n",
       "<style scoped>\n",
       "    .dataframe tbody tr th:only-of-type {\n",
       "        vertical-align: middle;\n",
       "    }\n",
       "\n",
       "    .dataframe tbody tr th {\n",
       "        vertical-align: top;\n",
       "    }\n",
       "\n",
       "    .dataframe thead th {\n",
       "        text-align: right;\n",
       "    }\n",
       "</style>\n",
       "<table border=\"1\" class=\"dataframe\">\n",
       "  <thead>\n",
       "    <tr style=\"text-align: right;\">\n",
       "      <th></th>\n",
       "      <th>season</th>\n",
       "      <th>team_ids</th>\n",
       "      <th>team_names</th>\n",
       "      <th>player_ids</th>\n",
       "      <th>player_names</th>\n",
       "      <th>player_birthdays</th>\n",
       "      <th>player_birthcities</th>\n",
       "      <th>player_birthcountries</th>\n",
       "      <th>player_nationalities</th>\n",
       "      <th>player_heights</th>\n",
       "      <th>player_weights</th>\n",
       "      <th>player_handedness</th>\n",
       "    </tr>\n",
       "  </thead>\n",
       "  <tbody>\n",
       "    <tr>\n",
       "      <th>0</th>\n",
       "      <td>1917-1918</td>\n",
       "      <td>36</td>\n",
       "      <td>Eagles</td>\n",
       "      <td>8445135</td>\n",
       "      <td>George Boucher</td>\n",
       "      <td>1896-08-19</td>\n",
       "      <td>Ottawa</td>\n",
       "      <td>CAN</td>\n",
       "      <td>CAN</td>\n",
       "      <td>5' 9\"</td>\n",
       "      <td>169.0</td>\n",
       "      <td>L</td>\n",
       "    </tr>\n",
       "    <tr>\n",
       "      <th>1</th>\n",
       "      <td>1917-1918</td>\n",
       "      <td>36</td>\n",
       "      <td>Eagles</td>\n",
       "      <td>8445191</td>\n",
       "      <td>Morley Bruce</td>\n",
       "      <td>1894-03-07</td>\n",
       "      <td>North Gower</td>\n",
       "      <td>CAN</td>\n",
       "      <td>CAN</td>\n",
       "      <td>5' 9\"</td>\n",
       "      <td>170.0</td>\n",
       "      <td>R</td>\n",
       "    </tr>\n",
       "    <tr>\n",
       "      <th>2</th>\n",
       "      <td>1917-1918</td>\n",
       "      <td>36</td>\n",
       "      <td>Eagles</td>\n",
       "      <td>8445802</td>\n",
       "      <td>Rusty Crawford</td>\n",
       "      <td>1885-11-07</td>\n",
       "      <td>Cardinal</td>\n",
       "      <td>CAN</td>\n",
       "      <td>CAN</td>\n",
       "      <td>5' 11\"</td>\n",
       "      <td>165.0</td>\n",
       "      <td>L</td>\n",
       "    </tr>\n",
       "    <tr>\n",
       "      <th>3</th>\n",
       "      <td>1917-1918</td>\n",
       "      <td>36</td>\n",
       "      <td>Eagles</td>\n",
       "      <td>8445844</td>\n",
       "      <td>Jack Darragh</td>\n",
       "      <td>1890-12-04</td>\n",
       "      <td>Ottawa</td>\n",
       "      <td>CAN</td>\n",
       "      <td>CAN</td>\n",
       "      <td>5' 10\"</td>\n",
       "      <td>168.0</td>\n",
       "      <td>R</td>\n",
       "    </tr>\n",
       "    <tr>\n",
       "      <th>4</th>\n",
       "      <td>1917-1918</td>\n",
       "      <td>36</td>\n",
       "      <td>Eagles</td>\n",
       "      <td>8445874</td>\n",
       "      <td>Cy Denneny</td>\n",
       "      <td>1891-12-23</td>\n",
       "      <td>Farran's Point</td>\n",
       "      <td>CAN</td>\n",
       "      <td>CAN</td>\n",
       "      <td>5' 7\"</td>\n",
       "      <td>168.0</td>\n",
       "      <td>L</td>\n",
       "    </tr>\n",
       "  </tbody>\n",
       "</table>\n",
       "</div>"
      ],
      "text/plain": [
       "      season  team_ids team_names  player_ids    player_names  \\\n",
       "0  1917-1918        36     Eagles     8445135  George Boucher   \n",
       "1  1917-1918        36     Eagles     8445191    Morley Bruce   \n",
       "2  1917-1918        36     Eagles     8445802  Rusty Crawford   \n",
       "3  1917-1918        36     Eagles     8445844    Jack Darragh   \n",
       "4  1917-1918        36     Eagles     8445874      Cy Denneny   \n",
       "\n",
       "  player_birthdays player_birthcities player_birthcountries  \\\n",
       "0       1896-08-19             Ottawa                   CAN   \n",
       "1       1894-03-07        North Gower                   CAN   \n",
       "2       1885-11-07           Cardinal                   CAN   \n",
       "3       1890-12-04             Ottawa                   CAN   \n",
       "4       1891-12-23     Farran's Point                   CAN   \n",
       "\n",
       "  player_nationalities player_heights  player_weights player_handedness  \n",
       "0                  CAN          5' 9\"           169.0                 L  \n",
       "1                  CAN          5' 9\"           170.0                 R  \n",
       "2                  CAN         5' 11\"           165.0                 L  \n",
       "3                  CAN         5' 10\"           168.0                 R  \n",
       "4                  CAN          5' 7\"           168.0                 L  "
      ]
     },
     "execution_count": 5,
     "metadata": {},
     "output_type": "execute_result"
    }
   ],
   "source": [
    "rosters_df.head()"
   ]
  },
  {
   "cell_type": "code",
   "execution_count": 6,
   "id": "23236931",
   "metadata": {},
   "outputs": [],
   "source": [
    "#Converting player heights to floats (inches)\n",
    "\n",
    "rosters_df['player_heights_inches'] = rosters_df['player_heights']\n",
    "rosters_df[['player_heights_inches_from_feet','player_heights_remaining_inches']] = rosters_df['player_heights_inches'].str.split(\"'\",expand=True)\n",
    "\n",
    "rosters_df['player_heights_remaining_inches'] = rosters_df['player_heights_remaining_inches'].map(lambda x: float(str(x).strip('\"')))\n",
    "rosters_df['player_heights_inches_from_feet'] = rosters_df['player_heights_inches_from_feet'].map(lambda x: float(x) * 12)\n",
    "\n",
    "rosters_df['player_heights_inches'] = rosters_df['player_heights_inches_from_feet'] + rosters_df['player_heights_remaining_inches']\n"
   ]
  },
  {
   "cell_type": "code",
   "execution_count": 7,
   "id": "efec8060",
   "metadata": {},
   "outputs": [],
   "source": [
    "#Drop the extra height columns created along the way\n",
    "rosters_df.drop(columns=['player_heights_inches_from_feet', 'player_heights_remaining_inches'], inplace=True)"
   ]
  },
  {
   "cell_type": "code",
   "execution_count": null,
   "id": "aa86c146",
   "metadata": {},
   "outputs": [],
   "source": []
  },
  {
   "cell_type": "code",
   "execution_count": 8,
   "id": "64d498be",
   "metadata": {},
   "outputs": [],
   "source": [
    "#Break out birthday year, months and days into seperate columns\n",
    "\n",
    "rosters_df['player_birth_years'] = rosters_df['player_birthdays']\n",
    "rosters_df[['player_birth_years','player_birth_months', 'player_birth_days']] = rosters_df['player_birth_years'].str.split('-',expand=True)\n",
    "\n"
   ]
  },
  {
   "cell_type": "code",
   "execution_count": 9,
   "id": "ac540a25",
   "metadata": {},
   "outputs": [],
   "source": [
    "#Recast them as integers\n",
    "\n",
    "rosters_df['player_birth_years'] = rosters_df['player_birth_years'].map(lambda x: int(x))\n",
    "rosters_df['player_birth_months'] = rosters_df['player_birth_months'].map(lambda x: int(x))\n",
    "rosters_df['player_birth_days'] = rosters_df['player_birth_days'].map(lambda x: int(x))\n",
    "# rosters_df['player_weights'] = rosters_df['player_weights'].map(lambda x: int(x))"
   ]
  },
  {
   "cell_type": "code",
   "execution_count": 10,
   "id": "a90515b4",
   "metadata": {},
   "outputs": [
    {
     "name": "stdout",
     "output_type": "stream",
     "text": [
      "<class 'pandas.core.frame.DataFrame'>\n",
      "RangeIndex: 52605 entries, 0 to 52604\n",
      "Data columns (total 16 columns):\n",
      " #   Column                 Non-Null Count  Dtype  \n",
      "---  ------                 --------------  -----  \n",
      " 0   season                 52605 non-null  object \n",
      " 1   team_ids               52605 non-null  int64  \n",
      " 2   team_names             52605 non-null  object \n",
      " 3   player_ids             52605 non-null  int64  \n",
      " 4   player_names           52605 non-null  object \n",
      " 5   player_birthdays       52605 non-null  object \n",
      " 6   player_birthcities     52601 non-null  object \n",
      " 7   player_birthcountries  52605 non-null  object \n",
      " 8   player_nationalities   52605 non-null  object \n",
      " 9   player_heights         52576 non-null  object \n",
      " 10  player_weights         52579 non-null  float64\n",
      " 11  player_handedness      52260 non-null  object \n",
      " 12  player_heights_inches  52576 non-null  float64\n",
      " 13  player_birth_years     52605 non-null  int64  \n",
      " 14  player_birth_months    52605 non-null  int64  \n",
      " 15  player_birth_days      52605 non-null  int64  \n",
      "dtypes: float64(2), int64(5), object(9)\n",
      "memory usage: 6.4+ MB\n"
     ]
    }
   ],
   "source": [
    "rosters_df.info()"
   ]
  },
  {
   "cell_type": "markdown",
   "id": "cc47c036",
   "metadata": {},
   "source": [
    "https://matplotlib.org/stable/api/_as_gen/matplotlib.axes.Axes.set_xticks.html"
   ]
  },
  {
   "cell_type": "markdown",
   "id": "815452d5",
   "metadata": {},
   "source": [
    "#### Avg. Player Height by Season\n",
    "\n",
    "Average NHL player height has increased by about 4 inches over the last century from around 69 inches (5'9\") to around 73 inches (6'1\"). Although there wasa dip around 1940 and somewhat of a leveling off over the last 20 years, average height has been been increasing at a fairly consistant rate."
   ]
  },
  {
   "cell_type": "code",
   "execution_count": 11,
   "id": "cd231269",
   "metadata": {},
   "outputs": [
    {
     "data": {
      "image/png": "[encoded data removed]",
      "text/plain": [
       "<Figure size 432x288 with 1 Axes>"
      ]
     },
     "metadata": {
      "needs_background": "light"
     },
     "output_type": "display_data"
    }
   ],
   "source": [
    "fig, ax = plt.subplots()\n",
    "# ax = plt.gca()\n",
    "ax.plot(rosters_df.groupby('season')['player_heights_inches'].mean())\n",
    "# ax.axes.xaxis.set_visible(False)\n",
    "ticks = rosters_df.groupby('season')['player_heights_inches'].mean().index[::10]\n",
    "plt.xticks(ticks, rotation=45)\n",
    "# ax.set_xticks(rosters_df.groupby('season')['player_heights_inches'].mean().index[::10])\n",
    "plt.ylabel(\"Height in Inches\");"
   ]
  },
  {
   "cell_type": "markdown",
   "id": "80a6872c",
   "metadata": {},
   "source": [
    "#### Avg. Player Weight by Season\n",
    "\n",
    "Similar to the 'Average Height' report, weight has also been steadily increasing over the last century. Interstingly though there's been a decrease over the last 20 (which is on par with the leveling-off we saw in the height graph).\n",
    "\n",
    "While physicality has and always will be an important factor in the game, skating ability and overall game speed has increased tremendously as training techniques,  facilities and player equipment has improved over the years. This means a player's speed and quickness is more imorant than ever, which could be contributing the declining average weight."
   ]
  },
  {
   "cell_type": "code",
   "execution_count": 12,
   "id": "979d5988",
   "metadata": {},
   "outputs": [
    {
     "data": {
      "image/png": "[encoded data removed]",
      "text/plain": [
       "<Figure size 432x288 with 1 Axes>"
      ]
     },
     "metadata": {
      "needs_background": "light"
     },
     "output_type": "display_data"
    }
   ],
   "source": [
    "# fig, ax = plt.subplots(1,2, figsize=(16,4))\n",
    "fig, ax = plt.subplots()\n",
    "# ax = plt.gca()\n",
    "ax.plot(rosters_df.groupby('season')['player_weights'].mean())\n",
    "# ax.axes.xaxis.set_visible(False)\n",
    "ticks = rosters_df.groupby('season')['player_weights'].mean().index[::10]\n",
    "plt.xticks(ticks, rotation=45)\n",
    "# ax.set_xticks(rosters_df.groupby('season')['player_weights'].mean().index[::10])\n",
    "plt.ylabel(\"Weight in Pounds\");"
   ]
  },
  {
   "cell_type": "markdown",
   "id": "b7f40fa2",
   "metadata": {},
   "source": [
    "#### Avg. Player Age by Season\n",
    "\n",
    "Average player age has flucuated over the last century, but the total trend line shows that the total average decrease in age isn't that significant.\n",
    "\n",
    "Important to note that the technique for calculating each players' age by season was NOT an exact process. These numbers should be taken with a grain of salt."
   ]
  },
  {
   "cell_type": "code",
   "execution_count": 53,
   "id": "a3fb14d6",
   "metadata": {},
   "outputs": [],
   "source": [
    "# Add new column to rosters_df for each players age by season\n",
    "# For the sake of this initial trend report I'm digging that hard into exact ages. Simply an approximation.\n",
    "# int(rosters_df['season'][0][0:4])\n",
    "rosters_df['season_start_year'] = [int(i[0:4]) for i in rosters_df['season']]\n",
    "rosters_df['approx_player_age'] = rosters_df['season_start_year'] - rosters_df['player_birth_years']"
   ]
  },
  {
   "cell_type": "code",
   "execution_count": 54,
   "id": "94325dc8",
   "metadata": {},
   "outputs": [
    {
     "name": "stdout",
     "output_type": "stream",
     "text": [
      "y=-0.002807x+(26.351333)\n"
     ]
    },
    {
     "data": {
      "image/png": "[encoded data removed]",
      "text/plain": [
       "<Figure size 432x288 with 1 Axes>"
      ]
     },
     "metadata": {
      "needs_background": "light"
     },
     "output_type": "display_data"
    }
   ],
   "source": [
    "# fig, ax = plt.subplots(1,2, figsize=(16,4))\n",
    "fig, ax = plt.subplots()\n",
    "# ax = plt.gca()\n",
    "ax.plot(rosters_df.groupby('season')['approx_player_age'].mean())\n",
    "# ax.axes.xaxis.set_visible(False)\n",
    "ticks = rosters_df.groupby('season')['approx_player_age'].mean().index[::10]\n",
    "plt.xticks(ticks, rotation=45)\n",
    "# ax.set_xticks(rosters_df.groupby('season')['player_weights'].mean().index[::10])\n",
    "plt.ylabel(\"Avg. Approximate Age\")\n",
    "\n",
    "x = [i for i in range(1, len(rosters_df.groupby('season')['approx_player_age'].mean().index) + 1)]\n",
    "y = rosters_df.groupby('season')['approx_player_age'].mean().values\n",
    "\n",
    "# calc the trendline\n",
    "z = np.polyfit(x, y, 1)\n",
    "p = np.poly1d(z)\n",
    "pylab.plot(x,p(x),\"r--\");\n",
    "\n",
    "print(f\"y=%.6fx+(%.6f)\"%(z[0],z[1]))\n"
   ]
  },
  {
   "cell_type": "markdown",
   "id": "bc792ed5",
   "metadata": {},
   "source": [
    "#### Side-by-side Comparison"
   ]
  },
  {
   "cell_type": "code",
   "execution_count": 62,
   "id": "4191203e",
   "metadata": {},
   "outputs": [
    {
     "data": {
      "image/png": "[encoded data removed]",
      "text/plain": [
       "<Figure size 1440x288 with 3 Axes>"
      ]
     },
     "metadata": {
      "needs_background": "light"
     },
     "output_type": "display_data"
    }
   ],
   "source": [
    "fig, ax = plt.subplots(1,3, figsize=(20,4))\n",
    "\n",
    "ax[0].plot(rosters_df.groupby('season')['player_weights'].mean())\n",
    "ax[0].set_ylabel('Weight in Pounds')\n",
    "weight_ticks = rosters_df.groupby('season')['player_weights'].mean().index[::10]\n",
    "ax[0].set_xticks(rosters_df.groupby('season')['player_weights'].mean().index[::10])\n",
    "ax[0].tick_params(labelrotation=45)\n",
    "plt.ylabel(\"Weight in Pounds\")\n",
    "\n",
    "ax[1].plot(rosters_df.groupby('season')['player_heights_inches'].mean())\n",
    "ax[1].set_ylabel('Height in Inches')\n",
    "height_ticks = rosters_df.groupby('season')['player_heights_inches'].mean().index[::10]\n",
    "ax[1].set_xticks(rosters_df.groupby('season')['player_heights_inches'].mean().index[::10])\n",
    "ax[1].tick_params(labelrotation=45)\n",
    "\n",
    "ax[2].plot(rosters_df.groupby('season')['approx_player_age'].mean())\n",
    "ax[2].set_ylabel('Avg. Age')\n",
    "age_ticks = rosters_df.groupby('season')['approx_player_age'].mean().index[::10]\n",
    "ax[2].set_xticks(rosters_df.groupby('season')['approx_player_age'].mean().index[::10])\n",
    "ax[2].tick_params(labelrotation=45)"
   ]
  },
  {
   "cell_type": "markdown",
   "id": "f9104360",
   "metadata": {},
   "source": [
    "#### Geography"
   ]
  },
  {
   "cell_type": "markdown",
   "id": "043a1915",
   "metadata": {},
   "source": [
    "How many players from players_df have differing birth countries and nationalities?"
   ]
  },
  {
   "cell_type": "code",
   "execution_count": 104,
   "id": "e59d74c3",
   "metadata": {},
   "outputs": [
    {
     "name": "stdout",
     "output_type": "stream",
     "text": [
      "Total players: 8206\n",
      "Players with nationalities different than their birth country: 128\n",
      "Percentage: 0.02\n"
     ]
    }
   ],
   "source": [
    "total_players = len(players_df)\n",
    "diff_count = len(players_df[players_df['player_birthcountries'] != players_df['player_nationalities']])\n",
    "percent_of_total = round(diff_count/total_players, 2)\n",
    "\n",
    "print(f'Total players: {total_players}')\n",
    "print(f'Players with nationalities different than their birth country: {diff_count}')\n",
    "print(f'Percentage: {percent_of_total}')"
   ]
  },
  {
   "cell_type": "code",
   "execution_count": 105,
   "id": "ee4469e4",
   "metadata": {
    "scrolled": true
   },
   "outputs": [
    {
     "data": {
      "text/html": [
       "<div>\n",
       "<style scoped>\n",
       "    .dataframe tbody tr th:only-of-type {\n",
       "        vertical-align: middle;\n",
       "    }\n",
       "\n",
       "    .dataframe tbody tr th {\n",
       "        vertical-align: top;\n",
       "    }\n",
       "\n",
       "    .dataframe thead th {\n",
       "        text-align: right;\n",
       "    }\n",
       "</style>\n",
       "<table border=\"1\" class=\"dataframe\">\n",
       "  <thead>\n",
       "    <tr style=\"text-align: right;\">\n",
       "      <th></th>\n",
       "      <th>player_ids</th>\n",
       "      <th>player_names</th>\n",
       "      <th>player_birthdays</th>\n",
       "      <th>player_birthcities</th>\n",
       "      <th>player_birthcountries</th>\n",
       "      <th>player_heights</th>\n",
       "      <th>player_weights</th>\n",
       "      <th>player_handedness</th>\n",
       "      <th>player_positions</th>\n",
       "    </tr>\n",
       "    <tr>\n",
       "      <th>player_nationalities</th>\n",
       "      <th></th>\n",
       "      <th></th>\n",
       "      <th></th>\n",
       "      <th></th>\n",
       "      <th></th>\n",
       "      <th></th>\n",
       "      <th></th>\n",
       "      <th></th>\n",
       "      <th></th>\n",
       "    </tr>\n",
       "  </thead>\n",
       "  <tbody>\n",
       "    <tr>\n",
       "      <th>CAN</th>\n",
       "      <td>5354</td>\n",
       "      <td>5354</td>\n",
       "      <td>5354</td>\n",
       "      <td>5354</td>\n",
       "      <td>5354</td>\n",
       "      <td>5345</td>\n",
       "      <td>5345</td>\n",
       "      <td>5293</td>\n",
       "      <td>5354</td>\n",
       "    </tr>\n",
       "    <tr>\n",
       "      <th>USA</th>\n",
       "      <td>1344</td>\n",
       "      <td>1344</td>\n",
       "      <td>1344</td>\n",
       "      <td>1344</td>\n",
       "      <td>1344</td>\n",
       "      <td>1342</td>\n",
       "      <td>1342</td>\n",
       "      <td>1330</td>\n",
       "      <td>1344</td>\n",
       "    </tr>\n",
       "    <tr>\n",
       "      <th>SWE</th>\n",
       "      <td>373</td>\n",
       "      <td>373</td>\n",
       "      <td>373</td>\n",
       "      <td>373</td>\n",
       "      <td>373</td>\n",
       "      <td>373</td>\n",
       "      <td>373</td>\n",
       "      <td>373</td>\n",
       "      <td>373</td>\n",
       "    </tr>\n",
       "    <tr>\n",
       "      <th>RUS</th>\n",
       "      <td>269</td>\n",
       "      <td>269</td>\n",
       "      <td>269</td>\n",
       "      <td>269</td>\n",
       "      <td>269</td>\n",
       "      <td>269</td>\n",
       "      <td>269</td>\n",
       "      <td>269</td>\n",
       "      <td>269</td>\n",
       "    </tr>\n",
       "    <tr>\n",
       "      <th>CZE</th>\n",
       "      <td>245</td>\n",
       "      <td>245</td>\n",
       "      <td>245</td>\n",
       "      <td>245</td>\n",
       "      <td>245</td>\n",
       "      <td>245</td>\n",
       "      <td>245</td>\n",
       "      <td>245</td>\n",
       "      <td>245</td>\n",
       "    </tr>\n",
       "    <tr>\n",
       "      <th>FIN</th>\n",
       "      <td>245</td>\n",
       "      <td>245</td>\n",
       "      <td>245</td>\n",
       "      <td>244</td>\n",
       "      <td>245</td>\n",
       "      <td>245</td>\n",
       "      <td>245</td>\n",
       "      <td>245</td>\n",
       "      <td>245</td>\n",
       "    </tr>\n",
       "    <tr>\n",
       "      <th>SVK</th>\n",
       "      <td>88</td>\n",
       "      <td>88</td>\n",
       "      <td>88</td>\n",
       "      <td>88</td>\n",
       "      <td>88</td>\n",
       "      <td>88</td>\n",
       "      <td>88</td>\n",
       "      <td>88</td>\n",
       "      <td>88</td>\n",
       "    </tr>\n",
       "    <tr>\n",
       "      <th>CHE</th>\n",
       "      <td>44</td>\n",
       "      <td>44</td>\n",
       "      <td>44</td>\n",
       "      <td>43</td>\n",
       "      <td>44</td>\n",
       "      <td>44</td>\n",
       "      <td>44</td>\n",
       "      <td>44</td>\n",
       "      <td>44</td>\n",
       "    </tr>\n",
       "    <tr>\n",
       "      <th>GBR</th>\n",
       "      <td>44</td>\n",
       "      <td>44</td>\n",
       "      <td>44</td>\n",
       "      <td>44</td>\n",
       "      <td>44</td>\n",
       "      <td>44</td>\n",
       "      <td>44</td>\n",
       "      <td>44</td>\n",
       "      <td>44</td>\n",
       "    </tr>\n",
       "    <tr>\n",
       "      <th>DEU</th>\n",
       "      <td>40</td>\n",
       "      <td>40</td>\n",
       "      <td>40</td>\n",
       "      <td>40</td>\n",
       "      <td>40</td>\n",
       "      <td>40</td>\n",
       "      <td>40</td>\n",
       "      <td>40</td>\n",
       "      <td>40</td>\n",
       "    </tr>\n",
       "  </tbody>\n",
       "</table>\n",
       "</div>"
      ],
      "text/plain": [
       "                      player_ids  player_names  player_birthdays  \\\n",
       "player_nationalities                                               \n",
       "CAN                         5354          5354              5354   \n",
       "USA                         1344          1344              1344   \n",
       "SWE                          373           373               373   \n",
       "RUS                          269           269               269   \n",
       "CZE                          245           245               245   \n",
       "FIN                          245           245               245   \n",
       "SVK                           88            88                88   \n",
       "CHE                           44            44                44   \n",
       "GBR                           44            44                44   \n",
       "DEU                           40            40                40   \n",
       "\n",
       "                      player_birthcities  player_birthcountries  \\\n",
       "player_nationalities                                              \n",
       "CAN                                 5354                   5354   \n",
       "USA                                 1344                   1344   \n",
       "SWE                                  373                    373   \n",
       "RUS                                  269                    269   \n",
       "CZE                                  245                    245   \n",
       "FIN                                  244                    245   \n",
       "SVK                                   88                     88   \n",
       "CHE                                   43                     44   \n",
       "GBR                                   44                     44   \n",
       "DEU                                   40                     40   \n",
       "\n",
       "                      player_heights  player_weights  player_handedness  \\\n",
       "player_nationalities                                                      \n",
       "CAN                             5345            5345               5293   \n",
       "USA                             1342            1342               1330   \n",
       "SWE                              373             373                373   \n",
       "RUS                              269             269                269   \n",
       "CZE                              245             245                245   \n",
       "FIN                              245             245                245   \n",
       "SVK                               88              88                 88   \n",
       "CHE                               44              44                 44   \n",
       "GBR                               44              44                 44   \n",
       "DEU                               40              40                 40   \n",
       "\n",
       "                      player_positions  \n",
       "player_nationalities                    \n",
       "CAN                               5354  \n",
       "USA                               1344  \n",
       "SWE                                373  \n",
       "RUS                                269  \n",
       "CZE                                245  \n",
       "FIN                                245  \n",
       "SVK                                 88  \n",
       "CHE                                 44  \n",
       "GBR                                 44  \n",
       "DEU                                 40  "
      ]
     },
     "execution_count": 105,
     "metadata": {},
     "output_type": "execute_result"
    }
   ],
   "source": [
    "players_df.groupby(players_df['player_nationalities']).count().sort_values(by='player_ids', ascending=False).head(10)"
   ]
  },
  {
   "cell_type": "code",
   "execution_count": 120,
   "id": "3599001b",
   "metadata": {},
   "outputs": [
    {
     "name": "stderr",
     "output_type": "stream",
     "text": [
      "<ipython-input-120-ca1081ca69d1>:8: UserWarning: FixedFormatter should only be used together with FixedLocator\n",
      "  ax.set_xticklabels(x, rotation=45);\n"
     ]
    },
    {
     "data": {
      "image/png": "[encoded data removed]",
      "text/plain": [
       "<Figure size 1152x288 with 1 Axes>"
      ]
     },
     "metadata": {
      "needs_background": "light"
     },
     "output_type": "display_data"
    }
   ],
   "source": [
    "birthcountries_df = players_df.groupby(players_df['player_birthcountries'])['player_ids'].count().sort_values(ascending=False)\n",
    "\n",
    "x = birthcountries_df.index[0:10]\n",
    "y = birthcountries_df.values[0:10]\n",
    "\n",
    "fig, ax = plt.subplots(figsize=(16,4))\n",
    "ax.bar(x, y)\n",
    "ax.set_xticklabels(x, rotation=45);"
   ]
  },
  {
   "cell_type": "code",
   "execution_count": 119,
   "id": "d5191cb0",
   "metadata": {
    "scrolled": true
   },
   "outputs": [
    {
     "data": {
      "image/png": "[encoded data removed]",
      "text/plain": [
       "<Figure size 1152x288 with 1 Axes>"
      ]
     },
     "metadata": {
      "needs_background": "light"
     },
     "output_type": "display_data"
    }
   ],
   "source": [
    "# rosters_df.groupby('player_nationalities').count().sort_values('season', ascending=False).head(10)\n",
    "can = rosters_df[rosters_df['player_nationalities'] == 'CAN'].groupby('season')['player_ids'].count()\n",
    "usa = rosters_df[rosters_df['player_nationalities'] == 'USA'].groupby('season')['player_ids'].count()\n",
    "swe = rosters_df[rosters_df['player_nationalities'] == 'SWE'].groupby('season')['player_ids'].count()\n",
    "rus = rosters_df[rosters_df['player_nationalities'] == 'RUS'].groupby('season')['player_ids'].count()\n",
    "cze = rosters_df[rosters_df['player_nationalities'] == 'CZE'].groupby('season')['player_ids'].count()\n",
    "\n",
    "fig, ax = plt.subplots(figsize=(16,4))\n",
    "\n",
    "ax.plot(can, label='Canada')\n",
    "ax.plot(usa, label='USA')\n",
    "ax.plot(swe, label='Sweden')\n",
    "ax.plot(rus, label='Russia')\n",
    "ax.plot(cze, label='Czech Republic')\n",
    "ax.legend()\n",
    "\n",
    "ticks = can.index[::10]\n",
    "plt.xticks(ticks, rotation=45)\n",
    "\n",
    "plt.ylabel(\"Weight in Pounds\");"
   ]
  },
  {
   "cell_type": "markdown",
   "id": "941d2736",
   "metadata": {},
   "source": [
    "#### Size by position"
   ]
  },
  {
   "cell_type": "code",
   "execution_count": 134,
   "id": "10b0287e",
   "metadata": {
    "scrolled": true
   },
   "outputs": [
    {
     "ename": "SyntaxError",
     "evalue": "invalid syntax (<ipython-input-134-ec397e60d5a4>, line 1)",
     "output_type": "error",
     "traceback": [
      "\u001b[0;36m  File \u001b[0;32m\"<ipython-input-134-ec397e60d5a4>\"\u001b[0;36m, line \u001b[0;32m1\u001b[0m\n\u001b[0;31m    players_df.groupby('player_positions')[]\u001b[0m\n\u001b[0m                                           ^\u001b[0m\n\u001b[0;31mSyntaxError\u001b[0m\u001b[0;31m:\u001b[0m invalid syntax\n"
     ]
    }
   ],
   "source": [
    "players_df.groupby('player_positions')[]"
   ]
  },
  {
   "cell_type": "code",
   "execution_count": 135,
   "id": "ea03dd21",
   "metadata": {},
   "outputs": [],
   "source": [
    "#Converting player heights to floats (inches)\n",
    "\n",
    "players_df['player_heights_inches'] = players_df['player_heights']\n",
    "players_df[['player_heights_inches_from_feet','player_heights_remaining_inches']] = players_df['player_heights_inches'].str.split(\"'\",expand=True)\n",
    "\n",
    "players_df['player_heights_remaining_inches'] = players_df['player_heights_remaining_inches'].map(lambda x: float(str(x).strip('\"')))\n",
    "players_df['player_heights_inches_from_feet'] = players_df['player_heights_inches_from_feet'].map(lambda x: float(x) * 12)\n",
    "\n",
    "players_df['player_heights_inches'] = players_df['player_heights_inches_from_feet'] + players_df['player_heights_remaining_inches']\n"
   ]
  },
  {
   "cell_type": "code",
   "execution_count": 136,
   "id": "37bb3947",
   "metadata": {},
   "outputs": [],
   "source": [
    "#Drop the extra height columns created along the way\n",
    "players_df.drop(columns=['player_heights_inches_from_feet', 'player_heights_remaining_inches'], inplace=True)"
   ]
  },
  {
   "cell_type": "code",
   "execution_count": 137,
   "id": "d8c389eb",
   "metadata": {},
   "outputs": [
    {
     "name": "stderr",
     "output_type": "stream",
     "text": [
      "<ipython-input-137-66957328c00b>:1: FutureWarning: Indexing with multiple keys (implicitly converted to a tuple of keys) will be deprecated, use a list instead.\n",
      "  position_size_df = players_df.groupby('player_positions')['player_heights_inches', 'player_weights'].mean().sort_values(by='player_weights', ascending=False)\n"
     ]
    },
    {
     "data": {
      "text/html": [
       "<div>\n",
       "<style scoped>\n",
       "    .dataframe tbody tr th:only-of-type {\n",
       "        vertical-align: middle;\n",
       "    }\n",
       "\n",
       "    .dataframe tbody tr th {\n",
       "        vertical-align: top;\n",
       "    }\n",
       "\n",
       "    .dataframe thead th {\n",
       "        text-align: right;\n",
       "    }\n",
       "</style>\n",
       "<table border=\"1\" class=\"dataframe\">\n",
       "  <thead>\n",
       "    <tr style=\"text-align: right;\">\n",
       "      <th></th>\n",
       "      <th>player_heights_inches</th>\n",
       "      <th>player_weights</th>\n",
       "    </tr>\n",
       "    <tr>\n",
       "      <th>player_positions</th>\n",
       "      <th></th>\n",
       "      <th></th>\n",
       "    </tr>\n",
       "  </thead>\n",
       "  <tbody>\n",
       "    <tr>\n",
       "      <th>Defenseman</th>\n",
       "      <td>72.939243</td>\n",
       "      <td>198.727840</td>\n",
       "    </tr>\n",
       "    <tr>\n",
       "      <th>Left Wing</th>\n",
       "      <td>72.056663</td>\n",
       "      <td>192.144368</td>\n",
       "    </tr>\n",
       "    <tr>\n",
       "      <th>Right Wing</th>\n",
       "      <td>71.845642</td>\n",
       "      <td>190.842981</td>\n",
       "    </tr>\n",
       "    <tr>\n",
       "      <th>Center</th>\n",
       "      <td>71.676708</td>\n",
       "      <td>187.201721</td>\n",
       "    </tr>\n",
       "    <tr>\n",
       "      <th>Goalie</th>\n",
       "      <td>71.898058</td>\n",
       "      <td>185.080194</td>\n",
       "    </tr>\n",
       "  </tbody>\n",
       "</table>\n",
       "</div>"
      ],
      "text/plain": [
       "                  player_heights_inches  player_weights\n",
       "player_positions                                       \n",
       "Defenseman                    72.939243      198.727840\n",
       "Left Wing                     72.056663      192.144368\n",
       "Right Wing                    71.845642      190.842981\n",
       "Center                        71.676708      187.201721\n",
       "Goalie                        71.898058      185.080194"
      ]
     },
     "execution_count": 137,
     "metadata": {},
     "output_type": "execute_result"
    }
   ],
   "source": [
    "position_size_df = players_df.groupby('player_positions')['player_heights_inches', 'player_weights'].mean().sort_values(by='player_weights', ascending=False)\n",
    "position_size_df"
   ]
  },
  {
   "cell_type": "code",
   "execution_count": null,
   "id": "c603426d",
   "metadata": {},
   "outputs": [],
   "source": []
  },
  {
   "cell_type": "code",
   "execution_count": 138,
   "id": "8876e3c5",
   "metadata": {},
   "outputs": [
    {
     "name": "stderr",
     "output_type": "stream",
     "text": [
      "<ipython-input-138-61974278b7a2>:15: MatplotlibDeprecationWarning: Passing the minor parameter of set_ticks() positionally is deprecated since Matplotlib 3.2; the parameter will become keyword-only two minor releases later.\n",
      "  ax.set_xticks(x, labels)\n"
     ]
    },
    {
     "ename": "ValueError",
     "evalue": "The truth value of a Index is ambiguous. Use a.empty, a.bool(), a.item(), a.any() or a.all().",
     "output_type": "error",
     "traceback": [
      "\u001b[0;31m---------------------------------------------------------------------------\u001b[0m",
      "\u001b[0;31mValueError\u001b[0m                                Traceback (most recent call last)",
      "\u001b[0;32m<ipython-input-138-61974278b7a2>\u001b[0m in \u001b[0;36m<module>\u001b[0;34m\u001b[0m\n\u001b[1;32m     13\u001b[0m \u001b[0max\u001b[0m\u001b[0;34m.\u001b[0m\u001b[0mset_ylabel\u001b[0m\u001b[0;34m(\u001b[0m\u001b[0;34m'Scores'\u001b[0m\u001b[0;34m)\u001b[0m\u001b[0;34m\u001b[0m\u001b[0;34m\u001b[0m\u001b[0m\n\u001b[1;32m     14\u001b[0m \u001b[0max\u001b[0m\u001b[0;34m.\u001b[0m\u001b[0mset_title\u001b[0m\u001b[0;34m(\u001b[0m\u001b[0;34m'Scores by group and gender'\u001b[0m\u001b[0;34m)\u001b[0m\u001b[0;34m\u001b[0m\u001b[0;34m\u001b[0m\u001b[0m\n\u001b[0;32m---> 15\u001b[0;31m \u001b[0max\u001b[0m\u001b[0;34m.\u001b[0m\u001b[0mset_xticks\u001b[0m\u001b[0;34m(\u001b[0m\u001b[0mx\u001b[0m\u001b[0;34m,\u001b[0m \u001b[0mlabels\u001b[0m\u001b[0;34m)\u001b[0m\u001b[0;34m\u001b[0m\u001b[0;34m\u001b[0m\u001b[0m\n\u001b[0m\u001b[1;32m     16\u001b[0m \u001b[0max\u001b[0m\u001b[0;34m.\u001b[0m\u001b[0mlegend\u001b[0m\u001b[0;34m(\u001b[0m\u001b[0;34m)\u001b[0m\u001b[0;34m\u001b[0m\u001b[0;34m\u001b[0m\u001b[0m\n\u001b[1;32m     17\u001b[0m \u001b[0;34m\u001b[0m\u001b[0m\n",
      "\u001b[0;32m~/opt/anaconda3/lib/python3.8/site-packages/matplotlib/axes/_base.py\u001b[0m in \u001b[0;36mwrapper\u001b[0;34m(self, *args, **kwargs)\u001b[0m\n\u001b[1;32m     61\u001b[0m \u001b[0;34m\u001b[0m\u001b[0m\n\u001b[1;32m     62\u001b[0m         \u001b[0;32mdef\u001b[0m \u001b[0mwrapper\u001b[0m\u001b[0;34m(\u001b[0m\u001b[0mself\u001b[0m\u001b[0;34m,\u001b[0m \u001b[0;34m*\u001b[0m\u001b[0margs\u001b[0m\u001b[0;34m,\u001b[0m \u001b[0;34m**\u001b[0m\u001b[0mkwargs\u001b[0m\u001b[0;34m)\u001b[0m\u001b[0;34m:\u001b[0m\u001b[0;34m\u001b[0m\u001b[0;34m\u001b[0m\u001b[0m\n\u001b[0;32m---> 63\u001b[0;31m             \u001b[0;32mreturn\u001b[0m \u001b[0mget_method\u001b[0m\u001b[0;34m(\u001b[0m\u001b[0mself\u001b[0m\u001b[0;34m)\u001b[0m\u001b[0;34m(\u001b[0m\u001b[0;34m*\u001b[0m\u001b[0margs\u001b[0m\u001b[0;34m,\u001b[0m \u001b[0;34m**\u001b[0m\u001b[0mkwargs\u001b[0m\u001b[0;34m)\u001b[0m\u001b[0;34m\u001b[0m\u001b[0;34m\u001b[0m\u001b[0m\n\u001b[0m\u001b[1;32m     64\u001b[0m \u001b[0;34m\u001b[0m\u001b[0m\n\u001b[1;32m     65\u001b[0m         \u001b[0mwrapper\u001b[0m\u001b[0;34m.\u001b[0m\u001b[0m__module__\u001b[0m \u001b[0;34m=\u001b[0m \u001b[0mowner\u001b[0m\u001b[0;34m.\u001b[0m\u001b[0m__module__\u001b[0m\u001b[0;34m\u001b[0m\u001b[0;34m\u001b[0m\u001b[0m\n",
      "\u001b[0;32m~/opt/anaconda3/lib/python3.8/site-packages/matplotlib/cbook/deprecation.py\u001b[0m in \u001b[0;36mwrapper\u001b[0;34m(*args, **kwargs)\u001b[0m\n\u001b[1;32m    449\u001b[0m                 \u001b[0;34m\"parameter will become keyword-only %(removal)s.\"\u001b[0m\u001b[0;34m,\u001b[0m\u001b[0;34m\u001b[0m\u001b[0;34m\u001b[0m\u001b[0m\n\u001b[1;32m    450\u001b[0m                 name=name, obj_type=f\"parameter of {func.__name__}()\")\n\u001b[0;32m--> 451\u001b[0;31m         \u001b[0;32mreturn\u001b[0m \u001b[0mfunc\u001b[0m\u001b[0;34m(\u001b[0m\u001b[0;34m*\u001b[0m\u001b[0margs\u001b[0m\u001b[0;34m,\u001b[0m \u001b[0;34m**\u001b[0m\u001b[0mkwargs\u001b[0m\u001b[0;34m)\u001b[0m\u001b[0;34m\u001b[0m\u001b[0;34m\u001b[0m\u001b[0m\n\u001b[0m\u001b[1;32m    452\u001b[0m \u001b[0;34m\u001b[0m\u001b[0m\n\u001b[1;32m    453\u001b[0m     \u001b[0;32mreturn\u001b[0m \u001b[0mwrapper\u001b[0m\u001b[0;34m\u001b[0m\u001b[0;34m\u001b[0m\u001b[0m\n",
      "\u001b[0;32m~/opt/anaconda3/lib/python3.8/site-packages/matplotlib/axis.py\u001b[0m in \u001b[0;36mset_ticks\u001b[0;34m(self, ticks, minor)\u001b[0m\n\u001b[1;32m   1817\u001b[0m                 \u001b[0mself\u001b[0m\u001b[0;34m.\u001b[0m\u001b[0mset_view_interval\u001b[0m\u001b[0;34m(\u001b[0m\u001b[0mmax\u001b[0m\u001b[0;34m(\u001b[0m\u001b[0mticks\u001b[0m\u001b[0;34m)\u001b[0m\u001b[0;34m,\u001b[0m \u001b[0mmin\u001b[0m\u001b[0;34m(\u001b[0m\u001b[0mticks\u001b[0m\u001b[0;34m)\u001b[0m\u001b[0;34m)\u001b[0m\u001b[0;34m\u001b[0m\u001b[0;34m\u001b[0m\u001b[0m\n\u001b[1;32m   1818\u001b[0m         \u001b[0mself\u001b[0m\u001b[0;34m.\u001b[0m\u001b[0maxes\u001b[0m\u001b[0;34m.\u001b[0m\u001b[0mstale\u001b[0m \u001b[0;34m=\u001b[0m \u001b[0;32mTrue\u001b[0m\u001b[0;34m\u001b[0m\u001b[0;34m\u001b[0m\u001b[0m\n\u001b[0;32m-> 1819\u001b[0;31m         \u001b[0;32mif\u001b[0m \u001b[0mminor\u001b[0m\u001b[0;34m:\u001b[0m\u001b[0;34m\u001b[0m\u001b[0;34m\u001b[0m\u001b[0m\n\u001b[0m\u001b[1;32m   1820\u001b[0m             \u001b[0mself\u001b[0m\u001b[0;34m.\u001b[0m\u001b[0mset_minor_locator\u001b[0m\u001b[0;34m(\u001b[0m\u001b[0mmticker\u001b[0m\u001b[0;34m.\u001b[0m\u001b[0mFixedLocator\u001b[0m\u001b[0;34m(\u001b[0m\u001b[0mticks\u001b[0m\u001b[0;34m)\u001b[0m\u001b[0;34m)\u001b[0m\u001b[0;34m\u001b[0m\u001b[0;34m\u001b[0m\u001b[0m\n\u001b[1;32m   1821\u001b[0m             \u001b[0;32mreturn\u001b[0m \u001b[0mself\u001b[0m\u001b[0;34m.\u001b[0m\u001b[0mget_minor_ticks\u001b[0m\u001b[0;34m(\u001b[0m\u001b[0mlen\u001b[0m\u001b[0;34m(\u001b[0m\u001b[0mticks\u001b[0m\u001b[0;34m)\u001b[0m\u001b[0;34m)\u001b[0m\u001b[0;34m\u001b[0m\u001b[0;34m\u001b[0m\u001b[0m\n",
      "\u001b[0;32m~/opt/anaconda3/lib/python3.8/site-packages/pandas/core/indexes/base.py\u001b[0m in \u001b[0;36m__nonzero__\u001b[0;34m(self)\u001b[0m\n\u001b[1;32m   2571\u001b[0m     \u001b[0;34m@\u001b[0m\u001b[0mfinal\u001b[0m\u001b[0;34m\u001b[0m\u001b[0;34m\u001b[0m\u001b[0m\n\u001b[1;32m   2572\u001b[0m     \u001b[0;32mdef\u001b[0m \u001b[0m__nonzero__\u001b[0m\u001b[0;34m(\u001b[0m\u001b[0mself\u001b[0m\u001b[0;34m)\u001b[0m\u001b[0;34m:\u001b[0m\u001b[0;34m\u001b[0m\u001b[0;34m\u001b[0m\u001b[0m\n\u001b[0;32m-> 2573\u001b[0;31m         raise ValueError(\n\u001b[0m\u001b[1;32m   2574\u001b[0m             \u001b[0;34mf\"The truth value of a {type(self).__name__} is ambiguous. \"\u001b[0m\u001b[0;34m\u001b[0m\u001b[0;34m\u001b[0m\u001b[0m\n\u001b[1;32m   2575\u001b[0m             \u001b[0;34m\"Use a.empty, a.bool(), a.item(), a.any() or a.all().\"\u001b[0m\u001b[0;34m\u001b[0m\u001b[0;34m\u001b[0m\u001b[0m\n",
      "\u001b[0;31mValueError\u001b[0m: The truth value of a Index is ambiguous. Use a.empty, a.bool(), a.item(), a.any() or a.all()."
     ]
    },
    {
     "data": {
      "image/png": "[encoded data removed]",
      "text/plain": [
       "<Figure size 432x288 with 1 Axes>"
      ]
     },
     "metadata": {
      "needs_background": "light"
     },
     "output_type": "display_data"
    }
   ],
   "source": [
    "labels = position_size_df.index\n",
    "player_weights = position_size_df['player_weights']\n",
    "player_heights_inches = position_size_df['player_heights_inches']\n",
    "\n",
    "x = np.arange(len(labels))  # the label locations\n",
    "width = 0.35  # the width of the bars\n",
    "\n",
    "fig, ax = plt.subplots()\n",
    "rects1 = ax.bar(x - width/2, player_weights, width, label='player_weights')\n",
    "rects2 = ax.bar(x + width/2, player_heights_inches, width, label='Woplayer_heights_inchesmen')\n",
    "\n",
    "# Add some text for labels, title and custom x-axis tick labels, etc.\n",
    "ax.set_ylabel('Scores')\n",
    "ax.set_title('Scores by group and gender')\n",
    "ax.set_xticks(x, labels)\n",
    "ax.legend()\n",
    "\n",
    "ax.bar_label(rects1, padding=3)\n",
    "ax.bar_label(rects2, padding=3)\n",
    "\n",
    "fig.tight_layout()\n",
    "\n",
    "plt.show()"
   ]
  },
  {
   "cell_type": "markdown",
   "id": "c219d572",
   "metadata": {},
   "source": [
    "#### Handedness"
   ]
  },
  {
   "cell_type": "code",
   "execution_count": 139,
   "id": "d7ae411b",
   "metadata": {},
   "outputs": [
    {
     "data": {
      "text/plain": [
       "player_handedness\n",
       "L    5358\n",
       "R    2773\n",
       "Name: player_handedness, dtype: int64"
      ]
     },
     "execution_count": 139,
     "metadata": {},
     "output_type": "execute_result"
    }
   ],
   "source": [
    "players_df.groupby('player_handedness')['player_handedness'].count()"
   ]
  },
  {
   "cell_type": "code",
   "execution_count": null,
   "id": "97d35ed5",
   "metadata": {},
   "outputs": [],
   "source": []
  }
 ],
 "metadata": {
  "kernelspec": {
   "display_name": "Python 3",
   "language": "python",
   "name": "python3"
  },
  "language_info": {
   "codemirror_mode": {
    "name": "ipython",
    "version": 3
   },
   "file_extension": ".py",
   "mimetype": "text/x-python",
   "name": "python",
   "nbconvert_exporter": "python",
   "pygments_lexer": "ipython3",
   "version": "3.8.8"
  }
 },
 "nbformat": 4,
 "nbformat_minor": 5
}
