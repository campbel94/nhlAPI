{
 "cells": [
  {
   "cell_type": "code",
   "execution_count": 5,
   "id": "e2278047",
   "metadata": {},
   "outputs": [],
   "source": [
    "import pandas as pd\n",
    "import numpy as np\n",
    "import matplotlib.pyplot as plt\n",
    "\n",
    "import json\n",
    "import requests"
   ]
  },
  {
   "cell_type": "markdown",
   "id": "3230fa8b",
   "metadata": {},
   "source": [
    "`GET` https://statsapi.web.nhl.com/api/v1/game/ID/feed/live Returns all data about\n",
    "a specified game id including play data with on-ice coordinates and post-game\n",
    "details like first, second and third stars and any details about shootouts.  The\n",
    "data returned is simply too large at often over 30k lines and is best explored\n",
    "with a JSON viewer.<br>\n",
    "`GET` https://statsapi.web.nhl.com/api/v1/game/ID/boxscore Returns far less detail\n",
    "than feed/live and is much more suitable for post-game details including goals,\n",
    "shots, PIMs, blocked, takeaways, giveaways and hits.<br>\n",
    "`GET` https://statsapi.web.nhl.com/api/v1/game/ID/linescore Even fewer details than\n",
    "boxscore. Has goals, shots on goal, powerplay and goalie pulled status, number of\n",
    "skaters and shootout information if applicable<br>\n",
    "`GET` http://statsapi.web.nhl.com/api/v1/game/ID/content Complex endpoint returning\n",
    "multiple types of media relating to the game including videos of shots, goals and saves.<br>\n",
    "`GET` https://statsapi.web.nhl.com/api/v1/game/ID/feed/live/diffPatch?startTimecode=yyyymmdd_hhmmss\n",
    "Returns updates (like new play events, updated stats for boxscore, etc.) for the specified game ID\n",
    "since the given startTimecode. If the startTimecode param is missing, returns an empty array."
   ]
  },
  {
   "cell_type": "code",
   "execution_count": 10,
   "id": "aa3911a8",
   "metadata": {},
   "outputs": [],
   "source": [
    "# Create url for API call.\n",
    "url = ''"
   ]
  },
  {
   "cell_type": "code",
   "execution_count": 1,
   "id": "3b0bc1c9",
   "metadata": {},
   "outputs": [],
   "source": [
    "# Submit request\n",
    "# This returns resposne object\n",
    "requests.get(url)"
   ]
  },
  {
   "cell_type": "code",
   "execution_count": 2,
   "id": "e28f428d",
   "metadata": {},
   "outputs": [],
   "source": [
    "res = requests.get(url)\n",
    "res.json()"
   ]
  },
  {
   "cell_type": "code",
   "execution_count": null,
   "id": "ab9a2dee",
   "metadata": {},
   "outputs": [],
   "source": []
  },
  {
   "cell_type": "code",
   "execution_count": null,
   "id": "6f4b69ca",
   "metadata": {},
   "outputs": [],
   "source": []
  },
  {
   "cell_type": "code",
   "execution_count": null,
   "id": "d49c9cc2",
   "metadata": {},
   "outputs": [],
   "source": []
  },
  {
   "cell_type": "code",
   "execution_count": null,
   "id": "a3d4b4b7",
   "metadata": {},
   "outputs": [],
   "source": []
  },
  {
   "cell_type": "code",
   "execution_count": null,
   "id": "918fac8e",
   "metadata": {},
   "outputs": [],
   "source": []
  }
 ],
 "metadata": {
  "kernelspec": {
   "display_name": "Python 3",
   "language": "python",
   "name": "python3"
  },
  "language_info": {
   "codemirror_mode": {
    "name": "ipython",
    "version": 3
   },
   "file_extension": ".py",
   "mimetype": "text/x-python",
   "name": "python",
   "nbconvert_exporter": "python",
   "pygments_lexer": "ipython3",
   "version": "3.8.8"
  }
 },
 "nbformat": 4,
 "nbformat_minor": 5
}
