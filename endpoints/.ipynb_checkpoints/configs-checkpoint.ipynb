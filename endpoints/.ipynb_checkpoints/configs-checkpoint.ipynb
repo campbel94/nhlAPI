{
 "cells": [
  {
   "cell_type": "code",
   "execution_count": 5,
   "id": "e2278047",
   "metadata": {},
   "outputs": [],
   "source": [
    "import pandas as pd\n",
    "import numpy as np\n",
    "import matplotlib.pyplot as plt\n",
    "\n",
    "import json\n",
    "import requests"
   ]
  },
  {
   "cell_type": "markdown",
   "id": "3230fa8b",
   "metadata": {},
   "source": [
    "GET https://statsapi.web.nhl.com/api/v1/configurations Returns a huge list of other endpoints, sort of the rosetta stone discovery tying many parts of the API together"
   ]
  },
  {
   "cell_type": "code",
   "execution_count": 10,
   "id": "aa3911a8",
   "metadata": {},
   "outputs": [],
   "source": [
    "# Create url for API call.\n",
    "url = 'https://statsapi.web.nhl.com/api/v1/configurations'"
   ]
  },
  {
   "cell_type": "code",
   "execution_count": 11,
   "id": "3b0bc1c9",
   "metadata": {},
   "outputs": [
    {
     "data": {
      "text/plain": [
       "<Response [200]>"
      ]
     },
     "execution_count": 11,
     "metadata": {},
     "output_type": "execute_result"
    }
   ],
   "source": [
    "# Submit request\n",
    "# This returns resposne object\n",
    "requests.get(url)"
   ]
  },
  {
   "cell_type": "code",
   "execution_count": 12,
   "id": "e28f428d",
   "metadata": {},
   "outputs": [
    {
     "data": {
      "text/plain": [
       "[{'description': 'List all configuration endpoints',\n",
       "  'endpoint': '/api/v1/configurations'},\n",
       " {'description': 'List all possible schedule types',\n",
       "  'endpoint': '/api/v1/scheduleTypes'},\n",
       " {'description': 'List all game types', 'endpoint': '/api/v1/gameTypes'},\n",
       " {'description': 'List all possible performer types',\n",
       "  'endpoint': '/api/v1/performerTypes'},\n",
       " {'description': 'List all expands', 'endpoint': '/api/v1/expands'},\n",
       " {'description': 'List all possible tournament types',\n",
       "  'endpoint': '/api/v1/tournamentTypes'},\n",
       " {'description': 'List all support languages',\n",
       "  'endpoint': '/api/v1/languages'},\n",
       " {'description': 'List all possible series codes',\n",
       "  'endpoint': '/api/v1/seriesCodes'},\n",
       " {'description': 'List all the player status options',\n",
       "  'endpoint': '/api/v1/playerStatus'},\n",
       " {'description': 'List all stat types', 'endpoint': '/api/v1/statTypes'},\n",
       " {'description': 'List all standings types',\n",
       "  'endpoint': '/api/v1/standingsTypes'},\n",
       " {'description': 'List all status types', 'endpoint': '/api/v1/gameStatus'},\n",
       " {'description': 'List all possible player league leader types',\n",
       "  'endpoint': '/api/v1/leagueLeaderTypes'},\n",
       " {'description': 'List all possible depth types for the stats leader endpoint',\n",
       "  'endpoint': '/api/v1/depthTypes'},\n",
       " {'description': 'List all possible image types for the logos',\n",
       "  'endpoint': '/api/v1/imageTypes'},\n",
       " {'description': 'List all possible image sizes for the logos',\n",
       "  'endpoint': '/api/v1/imageSizes'},\n",
       " {'description': 'List all possible roster types',\n",
       "  'endpoint': '/api/v1/rosterTypes'},\n",
       " {'description': 'Lists all possible {language}_{site} params.',\n",
       "  'endpoint': '/api/v1/siteLanguage'},\n",
       " {'description': 'List all possible team designations',\n",
       "  'endpoint': '/api/v1/teamDesignations'},\n",
       " {'description': 'List all possible hockey roster statuses',\n",
       "  'endpoint': '/api/v1/rosterStatuses'},\n",
       " {'description': 'List all possible event types',\n",
       "  'endpoint': '/api/v1/eventTypes'},\n",
       " {'description': 'List all play types', 'endpoint': '/api/v1/playTypes'},\n",
       " {'description': 'List all play types for player',\n",
       "  'endpoint': '/api/v1/playTypesPlayer'},\n",
       " {'description': 'List all possible positions',\n",
       "  'endpoint': '/api/v1/positions'},\n",
       " {'description': 'List all possible platforms',\n",
       "  'endpoint': '/api/v1/platforms'},\n",
       " {'description': 'List all possible platforms',\n",
       "  'endpoint': '/api/v1/powerPlayStrength'},\n",
       " {'description': 'List all possible draft prospect categories',\n",
       "  'endpoint': '/api/v1/prospectCategories'}]"
      ]
     },
     "execution_count": 12,
     "metadata": {},
     "output_type": "execute_result"
    }
   ],
   "source": [
    "res = requests.get(url)\n",
    "res.json()"
   ]
  },
  {
   "cell_type": "code",
   "execution_count": null,
   "id": "ab9a2dee",
   "metadata": {},
   "outputs": [],
   "source": []
  },
  {
   "cell_type": "code",
   "execution_count": null,
   "id": "6f4b69ca",
   "metadata": {},
   "outputs": [],
   "source": []
  },
  {
   "cell_type": "code",
   "execution_count": null,
   "id": "d49c9cc2",
   "metadata": {},
   "outputs": [],
   "source": []
  },
  {
   "cell_type": "code",
   "execution_count": null,
   "id": "a3d4b4b7",
   "metadata": {},
   "outputs": [],
   "source": []
  },
  {
   "cell_type": "code",
   "execution_count": null,
   "id": "918fac8e",
   "metadata": {},
   "outputs": [],
   "source": []
  }
 ],
 "metadata": {
  "kernelspec": {
   "display_name": "Python 3",
   "language": "python",
   "name": "python3"
  },
  "language_info": {
   "codemirror_mode": {
    "name": "ipython",
    "version": 3
   },
   "file_extension": ".py",
   "mimetype": "text/x-python",
   "name": "python",
   "nbconvert_exporter": "python",
   "pygments_lexer": "ipython3",
   "version": "3.8.8"
  }
 },
 "nbformat": 4,
 "nbformat_minor": 5
}
