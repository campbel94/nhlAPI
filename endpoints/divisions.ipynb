{
 "cells": [
  {
   "cell_type": "code",
   "execution_count": 1,
   "id": "e2278047",
   "metadata": {},
   "outputs": [],
   "source": [
    "import pandas as pd\n",
    "import numpy as np\n",
    "import matplotlib.pyplot as plt\n",
    "\n",
    "import json\n",
    "import requests"
   ]
  },
  {
   "cell_type": "markdown",
   "id": "3230fa8b",
   "metadata": {},
   "source": [
    "GET https://statsapi.web.nhl.com/api/v1/divisions  Returns full list of divisions\n",
    "and associated data like which conference they belong to, id values and API links.\n",
    "Does not show inactive divisions<br><br>\n",
    "GET https://statsapi.web.nhl.com/api/v1/divisions/ID Same as above but only for a\n",
    "single division. This can show old inactive divisions such as 13 Patrick."
   ]
  },
  {
   "cell_type": "code",
   "execution_count": 2,
   "id": "aa3911a8",
   "metadata": {},
   "outputs": [],
   "source": [
    "# Create url for API call.\n",
    "url = 'https://statsapi.web.nhl.com/api/v1/divisions'"
   ]
  },
  {
   "cell_type": "code",
   "execution_count": 3,
   "id": "3b0bc1c9",
   "metadata": {},
   "outputs": [
    {
     "data": {
      "text/plain": [
       "<Response [200]>"
      ]
     },
     "execution_count": 3,
     "metadata": {},
     "output_type": "execute_result"
    }
   ],
   "source": [
    "# Submit request\n",
    "# This returns resposne object\n",
    "requests.get(url)"
   ]
  },
  {
   "cell_type": "code",
   "execution_count": 4,
   "id": "e28f428d",
   "metadata": {},
   "outputs": [
    {
     "data": {
      "text/plain": [
       "{'copyright': 'NHL and the NHL Shield are registered trademarks of the National Hockey League. NHL and NHL team marks are the property of the NHL and its teams. © NHL 2021. All Rights Reserved.',\n",
       " 'divisions': [{'id': 17,\n",
       "   'name': 'Atlantic',\n",
       "   'nameShort': 'ATL',\n",
       "   'link': '/api/v1/divisions/17',\n",
       "   'abbreviation': 'A',\n",
       "   'conference': {'id': 6, 'name': 'Eastern', 'link': '/api/v1/conferences/6'},\n",
       "   'active': True},\n",
       "  {'id': 16,\n",
       "   'name': 'Central',\n",
       "   'nameShort': 'CEN',\n",
       "   'link': '/api/v1/divisions/16',\n",
       "   'abbreviation': 'C',\n",
       "   'conference': {'id': 5, 'name': 'Western', 'link': '/api/v1/conferences/5'},\n",
       "   'active': True},\n",
       "  {'id': 18,\n",
       "   'name': 'Metropolitan',\n",
       "   'nameShort': 'Metro',\n",
       "   'link': '/api/v1/divisions/18',\n",
       "   'abbreviation': 'M',\n",
       "   'conference': {'id': 6, 'name': 'Eastern', 'link': '/api/v1/conferences/6'},\n",
       "   'active': True},\n",
       "  {'id': 15,\n",
       "   'name': 'Pacific',\n",
       "   'nameShort': 'PAC',\n",
       "   'link': '/api/v1/divisions/15',\n",
       "   'abbreviation': 'P',\n",
       "   'conference': {'id': 5, 'name': 'Western', 'link': '/api/v1/conferences/5'},\n",
       "   'active': True}]}"
      ]
     },
     "execution_count": 4,
     "metadata": {},
     "output_type": "execute_result"
    }
   ],
   "source": [
    "res = requests.get(url)\n",
    "res.json()"
   ]
  },
  {
   "cell_type": "code",
   "execution_count": null,
   "id": "ab9a2dee",
   "metadata": {},
   "outputs": [],
   "source": []
  },
  {
   "cell_type": "code",
   "execution_count": null,
   "id": "6f4b69ca",
   "metadata": {},
   "outputs": [],
   "source": []
  },
  {
   "cell_type": "code",
   "execution_count": null,
   "id": "d49c9cc2",
   "metadata": {},
   "outputs": [],
   "source": []
  },
  {
   "cell_type": "code",
   "execution_count": null,
   "id": "a3d4b4b7",
   "metadata": {},
   "outputs": [],
   "source": []
  },
  {
   "cell_type": "code",
   "execution_count": null,
   "id": "918fac8e",
   "metadata": {},
   "outputs": [],
   "source": []
  }
 ],
 "metadata": {
  "kernelspec": {
   "display_name": "Python 3",
   "language": "python",
   "name": "python3"
  },
  "language_info": {
   "codemirror_mode": {
    "name": "ipython",
    "version": 3
   },
   "file_extension": ".py",
   "mimetype": "text/x-python",
   "name": "python",
   "nbconvert_exporter": "python",
   "pygments_lexer": "ipython3",
   "version": "3.8.8"
  }
 },
 "nbformat": 4,
 "nbformat_minor": 5
}
