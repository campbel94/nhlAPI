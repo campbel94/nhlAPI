{
 "cells": [
  {
   "cell_type": "code",
   "execution_count": 1,
   "id": "e2278047",
   "metadata": {},
   "outputs": [],
   "source": [
    "import pandas as pd\n",
    "import numpy as np\n",
    "import matplotlib.pyplot as plt\n",
    "\n",
    "import json\n",
    "import requests"
   ]
  },
  {
   "cell_type": "markdown",
   "id": "3230fa8b",
   "metadata": {},
   "source": [
    "### Team Stats\n",
    "`GET` https://statsapi.web.nhl.com/api/v1/teams/5/stats Returns current season stats and the current season rankings for a specific team\n",
    "\n",
    "### Stats Types\n",
    "`GET` https://statsapi.web.nhl.com/api/v1/statTypes Returns all the stats types\n",
    "to be used in order do get a specific kind of player stats"
   ]
  },
  {
   "cell_type": "code",
   "execution_count": 2,
   "id": "aa3911a8",
   "metadata": {},
   "outputs": [],
   "source": [
    "# Create url for API call.\n",
    "url = 'https://statsapi.web.nhl.com/api/v1/teams/5/stats'"
   ]
  },
  {
   "cell_type": "code",
   "execution_count": 3,
   "id": "3b0bc1c9",
   "metadata": {},
   "outputs": [
    {
     "data": {
      "text/plain": [
       "<Response [200]>"
      ]
     },
     "execution_count": 3,
     "metadata": {},
     "output_type": "execute_result"
    }
   ],
   "source": [
    "# Submit request\n",
    "# This returns resposne object\n",
    "requests.get(url)"
   ]
  },
  {
   "cell_type": "code",
   "execution_count": 4,
   "id": "e28f428d",
   "metadata": {},
   "outputs": [
    {
     "data": {
      "text/plain": [
       "{'copyright': 'NHL and the NHL Shield are registered trademarks of the National Hockey League. NHL and NHL team marks are the property of the NHL and its teams. © NHL 2021. All Rights Reserved.',\n",
       " 'stats': [{'type': {'displayName': 'statsSingleSeason',\n",
       "    'gameType': {'id': 'R',\n",
       "     'description': 'Regular season',\n",
       "     'postseason': False}},\n",
       "   'splits': [{'stat': {'gamesPlayed': 56,\n",
       "      'wins': 37,\n",
       "      'losses': 16,\n",
       "      'ot': 3,\n",
       "      'pts': 77,\n",
       "      'ptPctg': '68.8',\n",
       "      'goalsPerGame': 3.446,\n",
       "      'goalsAgainstPerGame': 2.768,\n",
       "      'evGGARatio': 1.27,\n",
       "      'powerPlayPercentage': '23.7',\n",
       "      'powerPlayGoals': 36.0,\n",
       "      'powerPlayGoalsAgainst': 35.0,\n",
       "      'powerPlayOpportunities': 152.0,\n",
       "      'penaltyKillPercentage': '77.4',\n",
       "      'shotsPerGame': 30.0714,\n",
       "      'shotsAllowed': 29.9821,\n",
       "      'winScoreFirst': 0.793,\n",
       "      'winOppScoreFirst': 0.519,\n",
       "      'winLeadFirstPer': 0.846,\n",
       "      'winLeadSecondPer': 0.926,\n",
       "      'winOutshootOpp': 0.655,\n",
       "      'winOutshotByOpp': 0.68,\n",
       "      'faceOffsTaken': 3191.0,\n",
       "      'faceOffsWon': 1573.0,\n",
       "      'faceOffsLost': 1618.0,\n",
       "      'faceOffWinPercentage': '49.3',\n",
       "      'shootingPctg': 11.5,\n",
       "      'savePctg': 0.908},\n",
       "     'team': {'id': 5,\n",
       "      'name': 'Pittsburgh Penguins',\n",
       "      'link': '/api/v1/teams/5'}}]},\n",
       "  {'type': {'displayName': 'regularSeasonStatRankings', 'gameType': None},\n",
       "   'splits': [{'stat': {'wins': '4th',\n",
       "      'losses': '7th',\n",
       "      'ot': '25th',\n",
       "      'pts': '7th',\n",
       "      'ptPctg': '7th',\n",
       "      'goalsPerGame': '2nd',\n",
       "      'goalsAgainstPerGame': '13th',\n",
       "      'evGGARatio': '5th',\n",
       "      'powerPlayPercentage': '4th',\n",
       "      'powerPlayGoals': '12th',\n",
       "      'powerPlayGoalsAgainst': '22nd',\n",
       "      'powerPlayOpportunities': '25th',\n",
       "      'penaltyKillOpportunities': '11th',\n",
       "      'penaltyKillPercentage': '27th',\n",
       "      'shotsPerGame': '12th',\n",
       "      'shotsAllowed': '15th',\n",
       "      'winScoreFirst': '7th',\n",
       "      'winOppScoreFirst': '2nd',\n",
       "      'winLeadFirstPer': '6th',\n",
       "      'winLeadSecondPer': '7th',\n",
       "      'winOutshootOpp': '6th',\n",
       "      'winOutshotByOpp': '6th',\n",
       "      'faceOffsTaken': '7th',\n",
       "      'faceOffsWon': '11th',\n",
       "      'faceOffsLost': '23rd',\n",
       "      'faceOffWinPercentage': '21st',\n",
       "      'savePctRank': '10th',\n",
       "      'shootingPctRank': '1st'},\n",
       "     'team': {'id': 5,\n",
       "      'name': 'Pittsburgh Penguins',\n",
       "      'link': '/api/v1/teams/5'}}]}]}"
      ]
     },
     "execution_count": 4,
     "metadata": {},
     "output_type": "execute_result"
    }
   ],
   "source": [
    "res = requests.get(url)\n",
    "res.json()"
   ]
  },
  {
   "cell_type": "code",
   "execution_count": null,
   "id": "ab9a2dee",
   "metadata": {},
   "outputs": [],
   "source": []
  },
  {
   "cell_type": "code",
   "execution_count": null,
   "id": "6f4b69ca",
   "metadata": {},
   "outputs": [],
   "source": []
  },
  {
   "cell_type": "code",
   "execution_count": null,
   "id": "d49c9cc2",
   "metadata": {},
   "outputs": [],
   "source": []
  },
  {
   "cell_type": "code",
   "execution_count": null,
   "id": "a3d4b4b7",
   "metadata": {},
   "outputs": [],
   "source": []
  },
  {
   "cell_type": "code",
   "execution_count": null,
   "id": "918fac8e",
   "metadata": {},
   "outputs": [],
   "source": []
  }
 ],
 "metadata": {
  "kernelspec": {
   "display_name": "Python 3",
   "language": "python",
   "name": "python3"
  },
  "language_info": {
   "codemirror_mode": {
    "name": "ipython",
    "version": 3
   },
   "file_extension": ".py",
   "mimetype": "text/x-python",
   "name": "python",
   "nbconvert_exporter": "python",
   "pygments_lexer": "ipython3",
   "version": "3.8.8"
  }
 },
 "nbformat": 4,
 "nbformat_minor": 5
}
