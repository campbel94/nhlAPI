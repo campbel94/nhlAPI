{
 "cells": [
  {
   "cell_type": "code",
   "execution_count": 21,
   "id": "e2278047",
   "metadata": {},
   "outputs": [],
   "source": [
    "import pandas as pd\n",
    "import numpy as np\n",
    "import matplotlib.pyplot as plt\n",
    "\n",
    "import json\n",
    "import requests"
   ]
  },
  {
   "cell_type": "markdown",
   "id": "3230fa8b",
   "metadata": {},
   "source": [
    "GET https://statsapi.web.nhl.com/api/v1/people/ID Gets details for a player, must\n",
    "specify the id value in order to return data<br>\n",
    "GET https://statsapi.web.nhl.com/api/v1/people/ID/stats Complex endpoint with\n",
    "lots of append options to change what kind of stats you wish to obtain<br>\n",
    "GET https://statsapi.web.nhl.com/api/v1/positions Simple endpoint that\n",
    "obtains an array of eligible positions in the NHL\n",
    "\n",
    "#### Modifiers\n",
    "`?stats=statsSingleSeason&season=19801981`  Obtains single season statistics\n",
    "for a player<br>\n",
    "**note** - stats have changed over the years, the below sample is for Wayne Gretzky\n",
    "and does not include things like evenTimeOnIce and other time related stats<br>\n",
    "`?stats=yearByYear` Provides a list of every season for a player's career<br>\n",
    "`?stats=homeAndAway&season=20162017` Provides a split between home and away games.<br>\n",
    "`?stats=winLoss&season=20162017` Very similar to the previous modifier except it provides the W/L/OT split instead of Home and Away\n",
    "`?stats=byMonth&season=20162017` Monthly split of stats<br>\n",
    "`?stats=byDayOfWeek&season=20162017` Split done by day of the week<br>\n",
    "`?stats=vsDivision&season=20162017` Division stats split<br>\n",
    "`?stats=vsConference&season=20162017` Conference stats split<br>\n",
    "`?stats=vsTeam&season=20162017` Conference stats split<br>\n",
    "`?stats=gameLog&season=20162017` Provides a game log showing stats for each game of a season<br>\n",
    "`?stats=regularSeasonStatRankings&season=20162017` Returns where someone stands vs\n",
    "the rest of the league for a specific regularSeasonStatRankings<br>\n",
    "`?stats=goalsByGameSituation&season=20162017` Shows number on when goals for a\n",
    "player happened like how many in the shootout, how many in each period, etc.<br>\n",
    "`?stats=onPaceRegularSeason&season=20172018` This only works with the current\n",
    "in-progress season and shows projected totals based on current onPaceRegularSeason\n"
   ]
  },
  {
   "cell_type": "code",
   "execution_count": 35,
   "id": "aa3911a8",
   "metadata": {},
   "outputs": [],
   "source": [
    "# Create url for API call.\n",
    "url = 'https://statsapi.web.nhl.com/api/v1/people/8471214'"
   ]
  },
  {
   "cell_type": "code",
   "execution_count": 36,
   "id": "3b0bc1c9",
   "metadata": {},
   "outputs": [
    {
     "data": {
      "text/plain": [
       "<Response [200]>"
      ]
     },
     "execution_count": 36,
     "metadata": {},
     "output_type": "execute_result"
    }
   ],
   "source": [
    "# Submit request\n",
    "# This returns resposne object\n",
    "requests.get(url)"
   ]
  },
  {
   "cell_type": "code",
   "execution_count": 45,
   "id": "e28f428d",
   "metadata": {},
   "outputs": [
    {
     "data": {
      "text/plain": [
       "{'id': 8471214,\n",
       " 'fullName': 'Alex Ovechkin',\n",
       " 'link': '/api/v1/people/8471214',\n",
       " 'firstName': 'Alex',\n",
       " 'lastName': 'Ovechkin',\n",
       " 'primaryNumber': '8',\n",
       " 'birthDate': '1985-09-17',\n",
       " 'currentAge': 36,\n",
       " 'birthCity': 'Moscow',\n",
       " 'birthCountry': 'RUS',\n",
       " 'nationality': 'RUS',\n",
       " 'height': '6\\' 3\"',\n",
       " 'weight': 238,\n",
       " 'active': True,\n",
       " 'alternateCaptain': False,\n",
       " 'captain': True,\n",
       " 'rookie': False,\n",
       " 'shootsCatches': 'R',\n",
       " 'rosterStatus': 'Y',\n",
       " 'currentTeam': {'id': 15,\n",
       "  'name': 'Washington Capitals',\n",
       "  'link': '/api/v1/teams/15'},\n",
       " 'primaryPosition': {'code': 'L',\n",
       "  'name': 'Left Wing',\n",
       "  'type': 'Forward',\n",
       "  'abbreviation': 'LW'}}"
      ]
     },
     "execution_count": 45,
     "metadata": {},
     "output_type": "execute_result"
    }
   ],
   "source": [
    "res = requests.get(url).json()\n",
    "res['people'][0]\n",
    "# [i for i in res['people']]"
   ]
  },
  {
   "cell_type": "code",
   "execution_count": 40,
   "id": "ab9a2dee",
   "metadata": {},
   "outputs": [
    {
     "data": {
      "text/html": [
       "<div>\n",
       "<style scoped>\n",
       "    .dataframe tbody tr th:only-of-type {\n",
       "        vertical-align: middle;\n",
       "    }\n",
       "\n",
       "    .dataframe tbody tr th {\n",
       "        vertical-align: top;\n",
       "    }\n",
       "\n",
       "    .dataframe thead th {\n",
       "        text-align: right;\n",
       "    }\n",
       "</style>\n",
       "<table border=\"1\" class=\"dataframe\">\n",
       "  <thead>\n",
       "    <tr style=\"text-align: right;\">\n",
       "      <th></th>\n",
       "      <th>copyright</th>\n",
       "      <th>people</th>\n",
       "    </tr>\n",
       "  </thead>\n",
       "  <tbody>\n",
       "    <tr>\n",
       "      <th>0</th>\n",
       "      <td>NHL and the NHL Shield are registered trademar...</td>\n",
       "      <td>{'id': 8471214, 'fullName': 'Alex Ovechkin', '...</td>\n",
       "    </tr>\n",
       "  </tbody>\n",
       "</table>\n",
       "</div>"
      ],
      "text/plain": [
       "                                           copyright  \\\n",
       "0  NHL and the NHL Shield are registered trademar...   \n",
       "\n",
       "                                              people  \n",
       "0  {'id': 8471214, 'fullName': 'Alex Ovechkin', '...  "
      ]
     },
     "execution_count": 40,
     "metadata": {},
     "output_type": "execute_result"
    }
   ],
   "source": [
    "pd.read_json('https://statsapi.web.nhl.com/api/v1/people/8471214')"
   ]
  },
  {
   "cell_type": "code",
   "execution_count": null,
   "id": "6f4b69ca",
   "metadata": {},
   "outputs": [],
   "source": []
  },
  {
   "cell_type": "code",
   "execution_count": 43,
   "id": "d49c9cc2",
   "metadata": {},
   "outputs": [],
   "source": [
    "# pd.json_normalize('https://statsapi.web.nhl.com/api/v1/people/8471214', record_path =['people'])"
   ]
  },
  {
   "cell_type": "code",
   "execution_count": null,
   "id": "a3d4b4b7",
   "metadata": {},
   "outputs": [],
   "source": []
  },
  {
   "cell_type": "code",
   "execution_count": null,
   "id": "918fac8e",
   "metadata": {},
   "outputs": [],
   "source": []
  }
 ],
 "metadata": {
  "kernelspec": {
   "display_name": "Python 3",
   "language": "python",
   "name": "python3"
  },
  "language_info": {
   "codemirror_mode": {
    "name": "ipython",
    "version": 3
   },
   "file_extension": ".py",
   "mimetype": "text/x-python",
   "name": "python",
   "nbconvert_exporter": "python",
   "pygments_lexer": "ipython3",
   "version": "3.8.8"
  }
 },
 "nbformat": 4,
 "nbformat_minor": 5
}
